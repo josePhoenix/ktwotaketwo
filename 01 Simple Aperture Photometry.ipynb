{
 "metadata": {
  "name": "",
  "signature": "sha256:f86d4c9e598d0fd212a0f85700e84be6430d19b8477784390ce62fada415997e"
 },
 "nbformat": 3,
 "nbformat_minor": 0,
 "worksheets": [
  {
   "cells": [
    {
     "cell_type": "markdown",
     "metadata": {},
     "source": [
      "# Extracting simple aperture photometry\n",
      "\n",
      "## K 3-71\n",
      "\n",
      "<div style=\"max-width: 940px;\">\n",
      "  <h3 style=\"font-style: italic;\">Kepler K2 FFI side by side with STScI DSS image with nebula indicated</h3>\n",
      "  <img src=\"./k371/k371_ds9_ffi_stscidss.png\" style=\"display: block; width: 100%;\">\n",
      "  <h3 style=\"font-style: italic;\">Selected mask for extraction</h3>\n",
      "  <img src=\"./k371/k371_kepmask.png\" style=\"display: block; width: 100%;\">\n",
      "</div>\n",
      "\n",
      "## J900\n",
      "\n",
      "<div style=\"max-width: 940px;\">\n",
      "  <h3 style=\"font-style: italic;\">Kepler K2 FFI side by side with STScI DSS image with nebula indicated</h3>\n",
      "  <img src=\"./k371/j900_ds9_ffi_stscidss.png\" style=\"display: block; width: 100%;\">\n",
      "  <h3 style=\"font-style: italic;\">Selected mask for extraction</h3>\n",
      "  <img src=\"./k371/j900_kepmask.png\" style=\"display: block; width: 100%;\">\n",
      "</div>\n",
      "\n",
      "## HoCr 1\n",
      "\n",
      "<div style=\"max-width: 940px;\">\n",
      "  <h3 style=\"font-style: italic;\">Kepler K2 FFI side by side with STScI DSS image with nebula indicated</h3>\n",
      "  <img src=\"./hocr1/hocr1_ds9_ffi_stscidss.png\" style=\"display: block; width: 100%;\">\n",
      "  <h3 style=\"font-style: italic;\">Selected mask for extraction</h3>\n",
      "  <img src=\"./hocr1/hocr1_kepmask.png\" style=\"display: block; width: 100%;\">\n",
      "</div>"
     ]
    },
    {
     "cell_type": "code",
     "collapsed": false,
     "input": [
      "!ls ./k./k371/"
     ],
     "language": "python",
     "metadata": {},
     "outputs": [
      {
       "output_type": "stream",
       "stream": "stdout",
       "text": [
        "\u001b[35mk371_ds9_ffi_stscidss.png\u001b[m\u001b[m \u001b[35mk371_kepmask.txt\u001b[m\u001b[m          k371_sap.fits\r\n",
        "\u001b[35mk371_kepmask.png\u001b[m\u001b[m          k371_original.fits\r\n"
       ]
      }
     ],
     "prompt_number": 4
    },
    {
     "cell_type": "code",
     "collapsed": false,
     "input": [
      "%pylab inline"
     ],
     "language": "python",
     "metadata": {},
     "outputs": [
      {
       "output_type": "stream",
       "stream": "stdout",
       "text": [
        "Populating the interactive namespace from numpy and matplotlib\n"
       ]
      }
     ],
     "prompt_number": 1
    },
    {
     "cell_type": "code",
     "collapsed": false,
     "input": [
      "from pyraf import iraf\n",
      "iraf.kepler(_doprint=0)"
     ],
     "language": "python",
     "metadata": {},
     "outputs": [
      {
       "output_type": "stream",
       "stream": "stdout",
       "text": [
        " \n",
        "No Warranty: THE SUBJECT SOFTWARE IS PROVIDED 'AS IS' WITHOUT ANY WARRANTY\n",
        "OF ANY KIND, EITHER EXPRESSED, IMPLIED, OR STATUTORY, INCLUDING, BUT NOT\n",
        "LIMITED TO, ANY WARRANTY THAT THE SUBJECT SOFTWARE WILL CONFORM TO\n",
        "PARTICULAR PURPOSE, OR FREEDOM FROM INFRINGEMENT, ANY WARRANTY THAT THE\n",
        "SUBJECT SOFTWARE WILL BE ERROR FREE, OR ANY WARRANTY THAT DOCUMENTATION, IF\n",
        "PROVIDED, WILL CONFORM TO THE SUBJECT SOFTWARE. THIS AGREEMENT DOES NOT, IN\n",
        "ANY MANNER, CONSTITUTE AN ENDORSEMENT BY GOVERNMENT AGENCY OR ANY PRIOR\n",
        "RECIPIENT OF ANY RESULTS, RESULTING DESIGNS, HARDWARE, SOFTWARE PRODUCTS OR\n",
        "ANY OTHER APPLICATIONS RESULTING FROM USE OF THE SUBJECT SOFTWARE. FURTHER,\n",
        "GOVERNMENT AGENCY DISCLAIMS ALL WARRANTIES AND LIABILITIES REGARDING\n",
        "THIRD-PARTY SOFTWARE, IF PRESENT IN THE ORIGINAL SOFTWARE, AND DISTRIBUTES\n",
        "IT 'AS IS.'\n",
        " \n",
        "Waiver and Indemnity: RECIPIENT AGREES TO WAIVE ANY AND ALL CLAIMS AGAINST\n",
        "THE UNITED STATES GOVERNMENT, ITS CONTRACTORS AND SUBCONTRACTORS, AS WELL AS\n",
        "ANY PRIOR RECIPIENT. IF RECIPIENT'S USE OF THE SUBJECT SOFTWARE RESULTS IN\n",
        "ANY LIABILITIES, DEMANDS, DAMAGES, EXPENSES OR LOSSES ARISING FROM SUCH USE,\n",
        "INCLUDING ANY DAMAGES FROM PRODUCTS BASED ON, OR RESULTING FROM, RECIPIENT'S\n",
        "USE OF THE SUBJECT SOFTWARE, RECIPIENT SHALL INDEMNIFY AND HOLD HARMLESS THE\n",
        "UNITED STATES GOVERNMENT, ITS CONTRACTORS AND SUBCONTRACTORS, AS WELL AS ANY\n",
        "PRIOR RECIPIENT, TO THE EXTENT PERMITTED BY LAW. RECIPIENT'S SOLE REMEDY FOR\n",
        "ANY SUCH MATTER SHALL BE THE IMMEDIATE, UNILATERAL TERMINATION OF THIS\n",
        "AGREEMENT.\n",
        " \n",
        "     +----------PyKE: Kepler Data Reduction and Analysis----------+\n",
        "     +------------------------------------------------------------+\n",
        "     |                  Version 2.6.2, Sep 10, 2014               |\n",
        "     |                      Requires PyRAF 2.1                    |\n",
        "     |            Bug reports: keplergo@mail.arc.nasa.gov         |\n",
        "     |                                                            |\n",
        "     |       Copyright 2010-2011 United States Government as      |\n",
        "     |      represented by the Administrator of the National      |\n",
        "     | Aeronautics and Space Administration. All Rights Reserved. |\n",
        "     +------------------------------------------------------------+\n",
        " \n",
        "     Setting imtype=fits\n",
        " \n"
       ]
      }
     ],
     "prompt_number": 2
    },
    {
     "cell_type": "code",
     "collapsed": false,
     "input": [
      "for shortname in ('k371', 'j900', 'hocr1'):\n",
      "    iraf.unlearn('kepextract')\n",
      "    iraf.kepextract(\n",
      "        infile='{0}/{0}_original.fits'.format(shortname),\n",
      "        maskfile='{0}/{0}_kepmask.txt'.format(shortname),\n",
      "        outfile='{0}/{0}_sap.fits'.format(shortname),\n",
      "        background=True\n",
      "    )"
     ],
     "language": "python",
     "metadata": {},
     "outputs": [
      {
       "output_type": "stream",
       "stream": "stdout",
       "text": [
        "----------------------------------------------------------------------------\n",
        "KEPEXTRACT -- infile=k371/k371_original.fits maskfile=k371/k371_kepmask.txt outfile=k371/k371_sap.fits background=y clobber=y verbose=y logfile=kepextract.log\n",
        "\n",
        "KEPEXTRACT started at: Tue Feb 17 21:01:10 2015\n",
        "KEPEXTRACT finished at: Tue Feb 17 21:02:36 2015"
       ]
      },
      {
       "output_type": "stream",
       "stream": "stdout",
       "text": [
        "\n",
        "----------------------------------------------------------------------------\n",
        "KEPEXTRACT -- infile=j900/j900_original.fits maskfile=j900/j900_kepmask.txt outfile=j900/j900_sap.fits background=y clobber=y verbose=y logfile=kepextract.log\n",
        "\n",
        "KEPEXTRACT started at: Tue Feb 17 21:02:36 2015\n",
        "KEPEXTRACT finished at: Tue Feb 17 21:03:56 2015"
       ]
      },
      {
       "output_type": "stream",
       "stream": "stdout",
       "text": [
        "\n",
        "----------------------------------------------------------------------------\n",
        "KEPEXTRACT -- infile=hocr1/hocr1_original.fits maskfile=hocr1/hocr1_kepmask.txt outfile=hocr1/hocr1_sap.fits background=y clobber=y verbose=y logfile=kepextract.log\n",
        "\n",
        "KEPEXTRACT started at: Tue Feb 17 21:03:56 2015\n",
        "KEPEXTRACT finished at: Tue Feb 17 21:05:33 2015"
       ]
      },
      {
       "output_type": "stream",
       "stream": "stdout",
       "text": [
        "\n"
       ]
      }
     ],
     "prompt_number": 3
    },
    {
     "cell_type": "code",
     "collapsed": false,
     "input": [],
     "language": "python",
     "metadata": {},
     "outputs": []
    }
   ],
   "metadata": {}
  }
 ]
}