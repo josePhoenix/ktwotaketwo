{
 "metadata": {
  "name": "",
  "signature": "sha256:0ec22d5a5060e6a8bab856357c90580bac4726016be8ef7068581e75b81ab25a"
 },
 "nbformat": 3,
 "nbformat_minor": 0,
 "worksheets": [
  {
   "cells": [
    {
     "cell_type": "markdown",
     "metadata": {},
     "source": [
      "# K2 Data Analysis\n",
      "## Looking for periodicities in PNe\n",
      "\n",
      "  * [01 Simple Aperture Photometry](01 Simple Aperture Photometry.ipynb)\n",
      "  * [02 Truncate Timeseries](02 Truncate Timeseries.ipynb)\n",
      "  * [03 Rough Flattening](03 Rough Flattening.ipynb)\n",
      "  * [04 Compare Pre-SFF Periodograms](04 Compare Pre-SFF Periodograms.ipynb)\n",
      "  * [05 Apply kepsff](05 Apply kepsff.ipynb)\n",
      "  * [06 Compare post-SFF periodograms](06 Compare post-SFF periodograms.ipynb)"
     ]
    }
   ],
   "metadata": {}
  }
 ]
}