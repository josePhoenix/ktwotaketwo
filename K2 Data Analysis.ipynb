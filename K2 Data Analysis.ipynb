{
 "metadata": {
  "name": "",
  "signature": "sha256:41f2080396ebc307f62b741fb99ad70e361887e2553cf4f94673e27191a6ee5d"
 },
 "nbformat": 3,
 "nbformat_minor": 0,
 "worksheets": [
  {
   "cells": [
    {
     "cell_type": "markdown",
     "metadata": {},
     "source": [
      "# K2 Data Analysis\n",
      "## Looking for periodicities in PNe\n",
      "\n",
      "  * [01 Simple Aperture Photometry](01 Simple Aperture Photometry.ipynb)\n",
      "  * [02 Truncate Timeseries](02 Truncate Timeseries.ipynb)\n",
      "  * [03 Rough Flattening](03 Rough Flattening.ipynb)\n",
      "  * [04 Compare Pre-SFF Periodograms](04 Compare Pre-SFF Periodograms.ipynb)\n",
      "  * [05 Apply kepsff](05 Apply kepsff.ipynb)\n",
      "  * [06 Compare post-SFF periodograms](06 Compare post-SFF periodograms.ipynb)\n",
      "  * [07 Phase Lightcurves](07 Phase Lightcurves.ipynb)"
     ]
    },
    {
     "cell_type": "code",
     "collapsed": false,
     "input": [],
     "language": "python",
     "metadata": {},
     "outputs": []
    }
   ],
   "metadata": {}
  }
 ]
}